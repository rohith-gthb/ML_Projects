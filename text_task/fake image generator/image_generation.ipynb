{
 "cells": [
  {
   "cell_type": "code",
   "execution_count": 1,
   "metadata": {
    "colab": {
     "base_uri": "https://localhost:8080/"
    },
    "id": "2r6-NcOO5I7z",
    "outputId": "1b31bc2e-9df8-4913-f932-1eb955d70eb2"
   },
   "outputs": [
    {
     "name": "stdout",
     "output_type": "stream",
     "text": [
      "Requirement already satisfied: Faker in c:\\users\\rohit\\anaconda3\\lib\\site-packages (6.6.1)\n",
      "Requirement already satisfied: python-dateutil>=2.4 in c:\\users\\rohit\\anaconda3\\lib\\site-packages (from Faker) (2.8.1)\n",
      "Requirement already satisfied: text-unidecode==1.3 in c:\\users\\rohit\\anaconda3\\lib\\site-packages (from Faker) (1.3)\n",
      "Requirement already satisfied: six>=1.5 in c:\\users\\rohit\\anaconda3\\lib\\site-packages (from python-dateutil>=2.4->Faker) (1.15.0)\n"
     ]
    }
   ],
   "source": [
    "!pip install Faker"
   ]
  },
  {
   "cell_type": "code",
   "execution_count": 2,
   "metadata": {
    "colab": {
     "base_uri": "https://localhost:8080/"
    },
    "id": "4y857HYls1Dx",
    "outputId": "712b097f-56e7-4708-dadc-616cdfb0f513"
   },
   "outputs": [],
   "source": [
    "from PIL import Image, ImageDraw, ImageFont\n",
    "from faker import Faker\n",
    "import random\n",
    "import string\n",
    "import matplotlib.pyplot as plt\n",
    "import pandas as pd\n",
    "# from google.colab import files\n",
    "\n",
    "fake = Faker()\n",
    "\n",
    "nouns = (\"puppy\", \"car\", \"rabbit\", \"girl\", \"monkey\")\n",
    "verbs = (\"runs\", \"hits\", \"jumps\", \"drives\", \"barfs\") \n",
    "adv = (\"crazily\", \"dutifully\", \"foolishly\", \"merrily\", \"occasionally\")\n",
    "adj = (\"adorable.\", \"clueless.\", \"dirty.\", \"odd.\", \"stupid.\")\n",
    "\n",
    "months = (\"January\", \"February\", \"March\", \"April\", \"May\", \"June\", \"July\", \"August\", \"September\", \"October\", \"November\", \"December\")\n",
    "\n",
    "!mkdir res"
   ]
  },
  {
   "cell_type": "markdown",
   "metadata": {
    "id": "UX6MY_iTeFnZ"
   },
   "source": [
    "Give number of images as input"
   ]
  },
  {
   "cell_type": "code",
   "execution_count": 5,
   "metadata": {
    "colab": {
     "base_uri": "https://localhost:8080/",
     "height": 232
    },
    "id": "0fl9d0SNxmjP",
    "outputId": "15564bd7-7e1f-4fba-dc7c-cfa728cd1b9a"
   },
   "outputs": [
    {
     "name": "stdout",
     "output_type": "stream",
     "text": [
      "10\n",
      "------------------1------------------\n",
      "------------------2------------------\n",
      "------------------3------------------\n",
      "------------------4------------------\n",
      "------------------5------------------\n",
      "------------------6------------------\n",
      "------------------7------------------\n",
      "------------------8------------------\n",
      "------------------9------------------\n",
      "------------------10------------------\n"
     ]
    }
   ],
   "source": [
    "n = int(input())\n",
    "text_generated=[]\n",
    "for i in range(n):\n",
    "  #reciept number created here\n",
    "  receipt_number =  ''.join(random.choice(string.ascii_uppercase) for i in range(3))+'-'+str(random.randint(10,99))+'-'+str(random.randint(100,999))+'-'+str(random.randint(1000,9999))\n",
    "\n",
    "  #case type created here\n",
    "  num = random.randrange(0,5)\n",
    "\n",
    "  case_type = str(random.randrange(1000,9999))+' '+nouns[num] + ' ' + verbs[num] + ' ' + adv[num] + ' ' + adj[num]\n",
    "  case_type = case_type.upper()\n",
    "\n",
    "  #All three dates created here\n",
    "  mm = random.randrange(0,11)\n",
    "  dd = random.randrange(1,31)\n",
    "  yyyy = random.randrange(2000, 2021)\n",
    "\n",
    "  received_date = months[mm]+\" \"+str(dd)+\", \"+str(yyyy)\n",
    "  notice_date = months[random.randrange(mm,11)]+\" \"+str(random.randrange(1,31))+\", \"+str(yyyy)\n",
    "  priority_date = months[random.randrange(mm,12)]+\" \"+str(random.randrange(1,31))+\", \"+str(yyyy)\n",
    "\n",
    "  # Beneficiary number\n",
    "  benf_number = random.choice(string.ascii_uppercase)+' '+str(random.randrange(100,999))+' '+str(random.randrange(100,999))+' '+str(random.randrange(100,999))\n",
    "\n",
    "  # Petitioner and Beneficiary names are created using faker\n",
    "  petitioner = fake.name()\n",
    "  benf_name = fake.name()+', '+fake.name()\n",
    "  benf_name = benf_name.upper()\n",
    "\n",
    "  # Address created using faker\n",
    "  address = fake.address()\n",
    "  address = fake.name()+'\\n'+fake.name()+' INC'+'\\n'+address\n",
    "  address = address.upper()\n",
    "\n",
    "  # Making changes to the copy of template\n",
    "  img = Image.open(\"template.jpg\")\n",
    "  draw = ImageDraw.Draw(img)\n",
    "\n",
    "  \n",
    "\n",
    "  font = ImageFont.truetype(\"times-new-roman.ttf\", 35)  # font = ImageFont.truetype(<font-file>, <font-size>)\n",
    "  draw.text((200, 450),receipt_number,(0,0,0),font=font)\n",
    "  draw.text((200, 530),received_date,(0,0,0),font=font)\n",
    "  draw.text((720, 530),priority_date,(0,0,0),font=font)\n",
    "\n",
    "  draw.text((200, 615),notice_date,(0,0,0),font=font)\n",
    "  draw.text((1240, 530),petitioner,(0,0,0),font=font)\n",
    "  draw.text((1240, 620),benf_name,(0,0,0),font=font)\n",
    "  #draw.text((1400, 585),benf_number,(0,0,0),font=font)\n",
    "\n",
    "  draw.text((1240, 450),case_type,(0,0,0),font=font)\n",
    "  draw.text((200, 700),address,(0,0,0),font=font)\n",
    "  img.save('res/'+str(i)+'.jpg')\n",
    "  print('------------------'+str(i+1)+'------------------')\n"
   ]
  },
  {
   "cell_type": "code",
   "execution_count": null,
   "metadata": {},
   "outputs": [],
   "source": []
  }
 ],
 "metadata": {
  "colab": {
   "collapsed_sections": [],
   "name": "task1_image.ipynb",
   "provenance": []
  },
  "kernelspec": {
   "display_name": "Python 3",
   "language": "python",
   "name": "python3"
  },
  "language_info": {
   "codemirror_mode": {
    "name": "ipython",
    "version": 3
   },
   "file_extension": ".py",
   "mimetype": "text/x-python",
   "name": "python",
   "nbconvert_exporter": "python",
   "pygments_lexer": "ipython3",
   "version": "3.8.5"
  }
 },
 "nbformat": 4,
 "nbformat_minor": 1
}
