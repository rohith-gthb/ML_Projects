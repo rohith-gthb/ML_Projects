{
 "cells": [
  {
   "cell_type": "code",
   "execution_count": null,
   "metadata": {},
   "outputs": [],
   "source": [
    "!pip install pytesseract"
   ]
  },
  {
   "cell_type": "code",
   "execution_count": 1,
   "metadata": {
    "colab": {
     "base_uri": "https://localhost:8080/"
    },
    "id": "yLXT8GV7KFyY",
    "outputId": "0bf70dcd-60ba-48f1-fde7-ef41dac8cbd1"
   },
   "outputs": [],
   "source": [
    "import pytesseract\n",
    "import matplotlib.pyplot as plt\n",
    "import cv2\n",
    "import numpy as np\n",
    "pytesseract.pytesseract.tesseract_cmd = r\"C:\\Program Files\\Tesseract-OCR\\tesseract.exe\""
   ]
  },
  {
   "cell_type": "code",
   "execution_count": 2,
   "metadata": {
    "id": "z37OtajpPa3O"
   },
   "outputs": [],
   "source": [
    "receipt_number = [(190, 450),(1210, 490)]\n",
    "received_date = [(190, 530),(700, 575)]\n",
    "notice_date = [(190, 615),(700, 655)]\n",
    "priority_date = [(710, 530),(1220, 575)]\n",
    "case_type = [(1230, 450), (2300, 490)]\n",
    "petitioner = [(1230, 530),(2300, 575)]\n",
    "beneficiary = [(1230, 610),(2300, 660)]\n",
    "#address = [(190, 690), (1220, 865)]"
   ]
  },
  {
   "cell_type": "code",
   "execution_count": 3,
   "metadata": {
    "id": "LOdqB2MeUgFn"
   },
   "outputs": [],
   "source": [
    "co_ords = []\n",
    "co_ords.append(petitioner)\n",
    "co_ords.append(receipt_number)\n",
    "co_ords.append(case_type)\n",
    "co_ords.append(received_date)\n",
    "co_ords.append(priority_date)\n",
    "co_ords.append(notice_date)\n",
    "co_ords.append(beneficiary)\n",
    "#co_ords.append(address)"
   ]
  },
  {
   "cell_type": "code",
   "execution_count": 4,
   "metadata": {
    "id": "dBkoJ4Mhz6vs"
   },
   "outputs": [],
   "source": [
    "add = []\n",
    "add.append([(190, 690),(1200, 735)])\n",
    "add.append([(190, 730),(1200, 775)])\n",
    "add.append([(190, 770),(1200, 815)])\n",
    "add.append([(190, 810),(1200, 855)])"
   ]
  },
  {
   "cell_type": "code",
   "execution_count": 5,
   "metadata": {
    "id": "dGt64tPcWTra"
   },
   "outputs": [],
   "source": [
    "into_csv = []\n",
    "for i in range(50):\n",
    "  img = cv2.imread(str(i)+'.jpg')\n",
    "  text = []\n",
    "  fileName = str(i)+\".jpg\"\n",
    "  text.append(fileName)\n",
    "  for box in co_ords:\n",
    "    roi = img[box[0][1]:box[1][1], box[0][0]:box[1][0]]\n",
    "    roi = cv2.cvtColor(roi.astype(np.uint8), cv2.COLOR_BGR2GRAY)\n",
    "    text.append(pytesseract.image_to_string(roi).strip())\n",
    "  #address \n",
    "  l=[]\n",
    "  for ad in add:\n",
    "    roi = img[ad[0][1]:ad[1][1], ad[0][0]:ad[1][0]]\n",
    "    roi = cv2.cvtColor(roi.astype(np.uint8), cv2.COLOR_BGR2GRAY)\n",
    "    l.append(pytesseract.image_to_string(roi).strip())\n",
    "  adrss = ''.join(x+'\\n' for x in l)\n",
    "  text.append(adrss.strip())\n",
    "  into_csv.append(text)"
   ]
  },
  {
   "cell_type": "code",
   "execution_count": 6,
   "metadata": {
    "colab": {
     "base_uri": "https://localhost:8080/",
     "height": 34
    },
    "id": "yr_IRdXJYu1m",
    "outputId": "a40069e5-77b1-4bef-bcbd-cb734cfc25f0"
   },
   "outputs": [
    {
     "data": {
      "text/html": [
       "<a href='predicted.csv' target='_blank'>predicted.csv</a><br>"
      ],
      "text/plain": [
       "C:\\Users\\rohit\\Documents\\predicted.csv"
      ]
     },
     "execution_count": 6,
     "metadata": {},
     "output_type": "execute_result"
    }
   ],
   "source": [
    "import pandas as pd\n",
    "df = pd.DataFrame(into_csv)\n",
    "df.columns=['file name', 'Petitioner', 'Receipt Number','Case Type', 'Received Date', 'Priority Date', 'Notice Date', 'Beneficiary', 'Address']\n",
    "df.to_csv('predicted.csv', index=False)\n",
    "from IPython.display import FileLink\n",
    "FileLink(\"predicted.csv\")"
   ]
  },
  {
   "cell_type": "code",
   "execution_count": null,
   "metadata": {
    "id": "q8bYf3yuGYjI"
   },
   "outputs": [],
   "source": []
  }
 ],
 "metadata": {
  "colab": {
   "collapsed_sections": [],
   "name": "text_ext.ipynb",
   "provenance": []
  },
  "kernelspec": {
   "display_name": "Python 3",
   "language": "python",
   "name": "python3"
  },
  "language_info": {
   "codemirror_mode": {
    "name": "ipython",
    "version": 3
   },
   "file_extension": ".py",
   "mimetype": "text/x-python",
   "name": "python",
   "nbconvert_exporter": "python",
   "pygments_lexer": "ipython3",
   "version": "3.8.5"
  }
 },
 "nbformat": 4,
 "nbformat_minor": 1
}
