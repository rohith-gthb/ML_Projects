{
 "cells": [
  {
   "cell_type": "code",
   "execution_count": 31,
   "id": "563261fd",
   "metadata": {},
   "outputs": [],
   "source": [
    "import tensorflow as tf\n",
    "from tensorflow import keras"
   ]
  },
  {
   "cell_type": "code",
   "execution_count": 32,
   "id": "de5314e6",
   "metadata": {},
   "outputs": [],
   "source": [
    "import zipfile\n",
    "with zipfile.ZipFile(\"horse-or-human.zip\",\"r\") as zip_ref:\n",
    "    zip_ref.extractall()"
   ]
  },
  {
   "cell_type": "code",
   "execution_count": 33,
   "id": "2603ef59",
   "metadata": {},
   "outputs": [
    {
     "name": "stdout",
     "output_type": "stream",
     "text": [
      "Found 1027 images belonging to 2 classes.\n"
     ]
    }
   ],
   "source": [
    "base = ''\n",
    "\n",
    "train_path = os.path.join(base, 'main')\n",
    "\n",
    "from tensorflow.keras.preprocessing.image import ImageDataGenerator\n",
    "train_data_generator = ImageDataGenerator(rescale=1/255)\n",
    "\n",
    "train_gen = train_data_generator.flow_from_directory(train_path, target_size=(150,150), class_mode='binary', batch_size=20 ) ## steps_per_epoch=100"
   ]
  },
  {
   "cell_type": "code",
   "execution_count": 34,
   "id": "9dc5d670",
   "metadata": {},
   "outputs": [],
   "source": [
    "model = keras.Sequential([\n",
    "    keras.layers.Conv2D(16, (3,3), input_shape=(150, 150, 3), activation=tf.nn.relu),\n",
    "    keras.layers.MaxPool2D((2,2)),\n",
    "    keras.layers.Conv2D(16, (3,3), activation=tf.nn.relu),\n",
    "    keras.layers.MaxPool2D((2,2)),\n",
    "    keras.layers.Conv2D(16, (3,3), activation=tf.nn.relu),\n",
    "    keras.layers.MaxPool2D((2,2)),\n",
    "    keras.layers.Flatten(),\n",
    "    keras.layers.Dense(128, activation=tf.nn.relu),\n",
    "    keras.layers.Dense(1, activation=tf.nn.tanh)\n",
    "])"
   ]
  },
  {
   "cell_type": "code",
   "execution_count": 35,
   "id": "6938b754",
   "metadata": {},
   "outputs": [],
   "source": [
    "from tensorflow.keras.optimizers import RMSprop\n",
    "\n",
    "model.compile(optimizer=RMSprop(lr=0.0001), loss='binary_crossentropy', metrics=['acc'])"
   ]
  },
  {
   "cell_type": "code",
   "execution_count": 36,
   "id": "e22b5f9c",
   "metadata": {},
   "outputs": [
    {
     "name": "stdout",
     "output_type": "stream",
     "text": [
      "Epoch 1/10\n",
      "52/52 [==============================] - 6s 108ms/step - loss: 1.4573 - acc: 0.5878\n",
      "Epoch 2/10\n",
      "52/52 [==============================] - 5s 97ms/step - loss: 0.4918 - acc: 0.8022\n",
      "Epoch 3/10\n",
      "52/52 [==============================] - 5s 95ms/step - loss: 0.2512 - acc: 0.9121\n",
      "Epoch 4/10\n",
      "52/52 [==============================] - 5s 98ms/step - loss: 0.1551 - acc: 0.9557\n",
      "Epoch 5/10\n",
      "52/52 [==============================] - 5s 96ms/step - loss: 0.1138 - acc: 0.9637\n",
      "Epoch 6/10\n",
      "52/52 [==============================] - 5s 99ms/step - loss: 0.0692 - acc: 0.9829\n",
      "Epoch 7/10\n",
      "52/52 [==============================] - 5s 96ms/step - loss: 0.0510 - acc: 0.9835\n",
      "Epoch 8/10\n",
      "52/52 [==============================] - 5s 96ms/step - loss: 0.0385 - acc: 0.9935\n",
      "Epoch 9/10\n",
      "52/52 [==============================] - 5s 91ms/step - loss: 0.0269 - acc: 0.9955\n",
      "Epoch 10/10\n",
      "52/52 [==============================] - 5s 92ms/step - loss: 0.0250 - acc: 0.9926: 3s - loss: 0.0249 - ac - ETA: 2s \n"
     ]
    }
   ],
   "source": [
    "hist = model.fit(train_gen, epochs=10)"
   ]
  },
  {
   "cell_type": "code",
   "execution_count": null,
   "id": "8452bdf2",
   "metadata": {},
   "outputs": [],
   "source": [
    "print((tf.config.experimental.list_physical_devices()))"
   ]
  },
  {
   "cell_type": "code",
   "execution_count": 40,
   "id": "6398bbe3",
   "metadata": {},
   "outputs": [
    {
     "data": {
      "image/png": "[encoded data removed]",
      "text/plain": [
       "<Figure size 432x288 with 1 Axes>"
      ]
     },
     "metadata": {
      "needs_background": "light"
     },
     "output_type": "display_data"
    },
    {
     "data": {
      "image/png": "[encoded data removed]",
      "text/plain": [
       "<Figure size 432x288 with 1 Axes>"
      ]
     },
     "metadata": {
      "needs_background": "light"
     },
     "output_type": "display_data"
    }
   ],
   "source": [
    "acc = hist.history['acc']\n",
    "loss=hist.history['loss']\n",
    "epochs = range(1, len(acc)+1)\n",
    "\n",
    "import matplotlib.pyplot as plt\n",
    "\n",
    "plt.plot(epochs, acc, label='acc')\n",
    "plt.legend()\n",
    "plt.show()\n",
    "plt.plot(epochs, loss)\n",
    "plt.show()"
   ]
  },
  {
   "cell_type": "code",
   "execution_count": null,
   "id": "c4cca3ae",
   "metadata": {},
   "outputs": [],
   "source": []
  }
 ],
 "metadata": {
  "kernelspec": {
   "display_name": "Python 3",
   "language": "python",
   "name": "python3"
  },
  "language_info": {
   "codemirror_mode": {
    "name": "ipython",
    "version": 3
   },
   "file_extension": ".py",
   "mimetype": "text/x-python",
   "name": "python",
   "nbconvert_exporter": "python",
   "pygments_lexer": "ipython3",
   "version": "3.8.8"
  }
 },
 "nbformat": 4,
 "nbformat_minor": 5
}
